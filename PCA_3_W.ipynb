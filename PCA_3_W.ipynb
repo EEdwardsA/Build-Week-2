{
 "cells": [
  {
   "cell_type": "code",
   "execution_count": null,
   "metadata": {},
   "outputs": [],
   "source": [
    "import pandas as pd\n",
    "import numpy as np\n",
    "from numpy.random import permutation\n",
    "from shutil import unpack_archive\n",
    "from itertools import permutations\n",
    "from sklearn.decomposition import PCA\n",
    "from sklearn.model_selection import train_test_split\n",
    "from xgboost import XGBClassifier"
   ]
  },
  {
   "cell_type": "code",
   "execution_count": null,
   "metadata": {},
   "outputs": [],
   "source": [
    "train_values = pd.read_csv(r'/Users/sabbrielle/Documents/Lambda/train_values.csv', index_col='sequence_id')\n",
    "train_labels = pd.read_csv(r'/Users/sabbrielle/Documents/Lambda/train_labels.csv', index_col='sequence_id')\n",
    "test_values = pd.read_csv(r'/Users/sabbrielle/Documents/Lambda/test_values.csv', index_col='sequence_id')"
   ]
  },
  {
   "cell_type": "code",
   "execution_count": null,
   "metadata": {},
   "outputs": [],
   "source": [
    "sequence_lengths = train_values.sequence.apply(len)\n",
    "train_values.iloc[:, 1:].apply(pd.value_counts)"
   ]
  },
  {
   "cell_type": "code",
   "execution_count": null,
   "metadata": {},
   "outputs": [],
   "source": [
    "sorted_binary_features = train_values.iloc[:, 1:].mean().sort_values()\n",
    "lab_ids = pd.DataFrame(train_labels.idxmax(axis=1), columns=['lab_id'])"
   ]
  },
  {
   "cell_type": "code",
   "execution_count": null,
   "metadata": {},
   "outputs": [],
   "source": [
    "bases = set(''.join(train_values.sequence.values))\n",
    "subsequences = [''.join(permutation) for permutation in permutations(bases, r=4)]"
   ]
  },
  {
   "cell_type": "code",
   "execution_count": null,
   "metadata": {},
   "outputs": [],
   "source": [
    "def get_ngram_features(data, subsequences):\n",
    "    \"\"\"Generates counts for each subsequence.\n",
    "\n",
    "    Args:\n",
    "        data (DataFrame): The data you want to create features from. Must include a \"sequence\" column.\n",
    "        subsequences (list): A list of subsequences to count.\n",
    "\n",
    "    Returns:\n",
    "        DataFrame: A DataFrame with one column for each subsequence.\n",
    "    \"\"\"\n",
    "    features = pd.DataFrame(index=data.index)\n",
    "    for subseq in subsequences:\n",
    "        features[subseq] = data.sequence.str.count(subseq)\n",
    "    return features"
   ]
  },
  {
   "cell_type": "code",
   "execution_count": null,
   "metadata": {},
   "outputs": [],
   "source": [
    "ngram_features = get_ngram_features(train_values, subsequences)"
   ]
  },
  {
   "cell_type": "code",
   "execution_count": null,
   "metadata": {},
   "outputs": [],
   "source": [
    "all_features = ngram_features.join(train_values.drop('sequence', axis=1))"
   ]
  },
  {
   "cell_type": "code",
   "execution_count": null,
   "metadata": {},
   "outputs": [],
   "source": [
    "def top10_accuracy_scorer(estimator, X, y):\n",
    "    \"\"\"A custom scorer that evaluates a model on whether the correct label is in \n",
    "    the top 10 most probable predictions.\n",
    "\n",
    "    Args:\n",
    "        estimator (sklearn estimator): The sklearn model that should be evaluated.\n",
    "        X (numpy array): The validation data.\n",
    "        y (numpy array): The ground truth labels.\n",
    "\n",
    "    Returns:\n",
    "        float: Accuracy of the model as defined by the proportion of predictions\n",
    "               in which the correct label was in the top 10. Higher is better.\n",
    "    \"\"\"\n",
    "    # predict the probabilities across all possible labels for rows in our training set\n",
    "    probas = estimator.predict_proba(X)\n",
    "    \n",
    "    # get the indices for top 10 predictions for each row; these are the last ten in each row\n",
    "    # Note: We use argpartition, which is O(n), vs argsort, which uses the quicksort algorithm \n",
    "    # by default and is O(n^2) in the worst case. We can do this because we only need the top ten\n",
    "    # partitioned, not in sorted order.\n",
    "    # Documentation: https://numpy.org/doc/1.18/reference/generated/numpy.argpartition.html\n",
    "    top10_idx = np.argpartition(probas, -10, axis=1)[:, -10:]\n",
    "    \n",
    "    # index into the classes list using the top ten indices to get the class names\n",
    "    top10_preds = estimator.classes_[top10_idx]\n",
    "\n",
    "    # check if y-true is in top 10 for each set of predictions\n",
    "    mask = top10_preds == y.reshape((y.size, 1))\n",
    "    \n",
    "    # take the mean\n",
    "    top_10_accuracy = mask.any(axis=1).mean()\n",
    " \n",
    "    return top_10_accuracy"
   ]
  },
  {
   "cell_type": "code",
   "execution_count": null,
   "metadata": {},
   "outputs": [],
   "source": [
    "X=all_features\n",
    "y=lab_ids.values.ravel()"
   ]
  },
  {
   "cell_type": "code",
   "execution_count": null,
   "metadata": {},
   "outputs": [],
   "source": [
    "X_train, X_val, y_train, y_val = train_test_split(X, y, test_size=0.2, random_state=42)"
   ]
  },
  {
   "cell_type": "code",
   "execution_count": null,
   "metadata": {},
   "outputs": [],
   "source": [
    "pca_whiten = PCA(n_components=3, random_state=42, whiten=True)\n",
    "\n",
    "X_train_pca_2 = X_train.copy()\n",
    "X_val_pca_2 = X_val.copy()\n",
    "princ_comp_train_whitened = pca.fit_transform(X_train_pca_2)\n",
    "princ_comp_val_whitened = pca.transform(X_val_pca_2)"
   ]
  },
  {
   "cell_type": "code",
   "execution_count": null,
   "metadata": {},
   "outputs": [],
   "source": [
    "pca_train_whitened = pd.DataFrame(data = princ_comp_train_whitened,\n",
    "                      columns = ['PC1', 'PC2','PC3'],\n",
    "                      index=X_train.index)\n",
    "\n",
    "pca_val_whitened = pd.DataFrame(data = princ_comp_val_whitened,\n",
    "                      columns = ['PC1', 'PC2','PC3'],\n",
    "                      index=X_val.index)"
   ]
  },
  {
   "cell_type": "code",
   "execution_count": null,
   "metadata": {},
   "outputs": [],
   "source": [
    "X_train_w_pca_whitened = pd.concat([X_train, pca_train_whitened], axis=1)\n",
    "X_val_w_pca_whitened = pd.concat([X_val, pca_val_whitened], axis=1)"
   ]
  },
  {
   "cell_type": "code",
   "execution_count": null,
   "metadata": {},
   "outputs": [],
   "source": [
    "model_xgb_4_w_pca = XGBClassifier(random_state=42, \n",
    "                          verbosity=1, \n",
    "                          n_jobs=-1,\n",
    "                          max_delta_step=1)\n",
    "\n",
    "model_xgb_4_w_pca.fit(X_train_w_pca_whitened, y_train)"
   ]
  },
  {
   "cell_type": "code",
   "execution_count": null,
   "metadata": {},
   "outputs": [],
   "source": [
    "print('Training accuracy using XGBoost and 3 (whitened) PCA:', top10_accuracy_scorer(model_xgb_4_w_pca, X_train_w_pca_whitened, y_train))\n",
    "print('Validation accuracy using XGBoost and 3 (whitened) PCA:', top10_accuracy_scorer(model_xgb_4_w_pca, X_val_w_pca_whitened, y_val))"
   ]
  }
 ],
 "metadata": {
  "kernelspec": {
   "display_name": "Python 3",
   "language": "python",
   "name": "python3"
  },
  "language_info": {
   "codemirror_mode": {
    "name": "ipython",
    "version": 3
   },
   "file_extension": ".py",
   "mimetype": "text/x-python",
   "name": "python",
   "nbconvert_exporter": "python",
   "pygments_lexer": "ipython3",
   "version": "3.8.2"
  }
 },
 "nbformat": 4,
 "nbformat_minor": 4
}
